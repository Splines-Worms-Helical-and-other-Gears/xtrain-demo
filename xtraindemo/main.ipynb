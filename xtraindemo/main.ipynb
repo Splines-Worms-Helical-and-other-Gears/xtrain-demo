{
 "cells": [
  {
   "cell_type": "markdown",
   "metadata": {
    "collapsed": true,
    "pycharm": {
     "name": "#%% md\n"
    }
   },
   "source": [
    "# Run The Skeleton Code"
   ]
  },
  {
   "cell_type": "code",
   "execution_count": 2,
   "outputs": [
    {
     "name": "stderr",
     "output_type": "stream",
     "text": [
      "2021-05-02 19:29:30,564 app.xtraindemo.logger INFO     Planet level destruction.\n"
     ]
    }
   ],
   "source": [
    "from xtraindemo.DeathStar import DeathStar\n",
    "from xtraindemo.MilleniumFalcon import MilleniumFalcon\n",
    "from xtraindemo.logger import logger\n",
    "from xtraindemo.config import CONFIG\n",
    "\n",
    "log = logger(CONFIG)\n",
    "\n",
    "if CONFIG['selected_spacecraft'] == \"Death Star\":\n",
    "    deathstar = DeathStar()\n",
    "    log.info(deathstar.firepower())\n",
    "\n",
    "elif CONFIG['selected_spacecraft'] == \"Millenium Falcon\":\n",
    "    milleniumfalcon = MilleniumFalcon()\n",
    "    log.info(milleniumfalcon.firepower())\n",
    "\n",
    "else:\n",
    "    log.warn(\"Misconfiguration in config file. Choose one of my favorite spacecraft.\")"
   ],
   "metadata": {
    "collapsed": false,
    "pycharm": {
     "name": "#%%\n"
    }
   }
  }
 ],
 "metadata": {
  "kernelspec": {
   "display_name": "Python 3",
   "language": "python",
   "name": "python3"
  },
  "language_info": {
   "codemirror_mode": {
    "name": "ipython",
    "version": 2
   },
   "file_extension": ".py",
   "mimetype": "text/x-python",
   "name": "python",
   "nbconvert_exporter": "python",
   "pygments_lexer": "ipython2",
   "version": "2.7.6"
  }
 },
 "nbformat": 4,
 "nbformat_minor": 0
}